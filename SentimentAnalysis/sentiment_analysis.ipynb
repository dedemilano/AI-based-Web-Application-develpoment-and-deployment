{
 "cells": [
  {
   "cell_type": "code",
   "execution_count": 6,
   "metadata": {},
   "outputs": [],
   "source": [
    "from transformers import pipeline\n",
    "from typing import Dict "
   ]
  },
  {
   "cell_type": "code",
   "execution_count": 7,
   "metadata": {},
   "outputs": [
    {
     "name": "stderr",
     "output_type": "stream",
     "text": [
      "Device set to use cpu\n"
     ]
    }
   ],
   "source": [
    "sentiment_pipeline = pipeline(\"sentiment-analysis\", model=\"nlptown/bert-base-multilingual-uncased-sentiment\")"
   ]
  },
  {
   "cell_type": "code",
   "execution_count": 8,
   "metadata": {},
   "outputs": [
    {
     "data": {
      "text/plain": [
       "[{'label': '5 stars', 'score': 0.8546808362007141}]"
      ]
     },
     "execution_count": 8,
     "metadata": {},
     "output_type": "execute_result"
    }
   ],
   "source": [
    "sentiment_pipeline(\"I love you\")"
   ]
  },
  {
   "cell_type": "code",
   "execution_count": 14,
   "metadata": {},
   "outputs": [],
   "source": [
    "\n",
    "def sentiment_analyzer(text_to_analyse: str) -> Dict:\n",
    "    \"\"\"\n",
    "    Analyze the sentiment of input text using Hugging Face Transformers.\n",
    "    Returns sentiment label and score.\n",
    "    \"\"\"\n",
    "    try:\n",
    "        result = sentiment_pipeline(text_to_analyse)[0]\n",
    "        # Convert 1-5 star rating to positive/negative/neutral\n",
    "        star_number = float(result['label'].split()[0])\n",
    "        score = result['score']\n",
    "        if score < 0.5:\n",
    "            sentiment = \"not so sure but i think it is \"\n",
    "        else:\n",
    "            sentiment = \"i am quite sure it is \"\n",
    "        if star_number >= 4 :\n",
    "            sentiment += \"positive\"\n",
    "        elif star_number <= 2:\n",
    "            sentiment += \"negative\"\n",
    "        else:\n",
    "            sentiment += \"neutral\"\n",
    "            \n",
    "        return {\n",
    "            \"sentiment\": sentiment,\n",
    "            \"score\": result['score']\n",
    "        }\n",
    "    except Exception as e:\n",
    "        return {\n",
    "            \"error\": str(e)\n",
    "        }"
   ]
  },
  {
   "cell_type": "code",
   "execution_count": 16,
   "metadata": {},
   "outputs": [
    {
     "data": {
      "text/plain": [
       "{'sentiment': 'i am quite sure it is positive', 'score': 0.8546808362007141}"
      ]
     },
     "execution_count": 16,
     "metadata": {},
     "output_type": "execute_result"
    }
   ],
   "source": [
    "sentiment_analyzer(\"I love you\")"
   ]
  },
  {
   "cell_type": "code",
   "execution_count": 15,
   "metadata": {},
   "outputs": [
    {
     "data": {
      "text/plain": [
       "{'sentiment': 'not so sure but i think it is negative',\n",
       " 'score': 0.2782971262931824}"
      ]
     },
     "execution_count": 15,
     "metadata": {},
     "output_type": "execute_result"
    }
   ],
   "source": [
    "sentiment_analyzer(\"I shhh you\")"
   ]
  }
 ],
 "metadata": {
  "kernelspec": {
   "display_name": "venv",
   "language": "python",
   "name": "python3"
  },
  "language_info": {
   "codemirror_mode": {
    "name": "ipython",
    "version": 3
   },
   "file_extension": ".py",
   "mimetype": "text/x-python",
   "name": "python",
   "nbconvert_exporter": "python",
   "pygments_lexer": "ipython3",
   "version": "3.10.11"
  }
 },
 "nbformat": 4,
 "nbformat_minor": 2
}
